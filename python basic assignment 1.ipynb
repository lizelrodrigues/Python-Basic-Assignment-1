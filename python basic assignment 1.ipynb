{
 "cells": [
  {
   "cell_type": "code",
   "execution_count": null,
   "id": "2eae3eb8",
   "metadata": {},
   "outputs": [],
   "source": [
    "#Python Basic Assignment 1"
   ]
  },
  {
   "cell_type": "markdown",
   "id": "a303f4d1",
   "metadata": {},
   "source": [
    "1.In the below elements which of them are values or an expression? eg:- values can be\n",
    "integer or string and expressions will be mathematical operators."
   ]
  },
  {
   "cell_type": "code",
   "execution_count": null,
   "id": "a06933f7",
   "metadata": {},
   "outputs": [],
   "source": [
    "# (Expression *) \n",
    "# (Value 'hello') \n",
    "# (Value -87.8) \n",
    "# (Expression -) \n",
    "# (Expression /) \n",
    "# (Expression +) \n",
    "# (Value 6)"
   ]
  },
  {
   "cell_type": "markdown",
   "id": "5152199e",
   "metadata": {},
   "source": [
    "2.What is the difference between string and variable?"
   ]
  },
  {
   "cell_type": "code",
   "execution_count": null,
   "id": "a989c7cc",
   "metadata": {},
   "outputs": [],
   "source": [
    "# Strings are always enclosed between \" \" or '' (single or double quote). \n",
    "#    They can be letters, numbers or symbols enclosed in inverted commas.\n",
    "# Variables are the name given to a particular memory location in which value is stored. \n",
    "# eg. a = \"Assignment\" .Here, (a) is a variable and (Assignment) is a string."
   ]
  },
  {
   "cell_type": "markdown",
   "id": "106538e0",
   "metadata": {},
   "source": [
    "3.Describe three different data types."
   ]
  },
  {
   "cell_type": "code",
   "execution_count": null,
   "id": "74d5c164",
   "metadata": {},
   "outputs": [],
   "source": [
    "# Integer - These are positive or negative whole numbers without any decimal points.\n",
    "int = type(5) \n",
    "# String - Strings are always enclosed between \" \" or ''. They can be letters, numbers or symbols enclosed in inverted commas. \n",
    "string = type(\"7\")  \n",
    "#Float - This are floating point numbers , numbers with decimal point\n",
    "float = type(9.8) \n",
    "# Boolean - Values in the form of \"True\" or \"False\" i.e. 1 and 0\n",
    "Bool = type(True)  \n",
    "\n",
    "print(int,string,float,Bool)"
   ]
  },
  {
   "cell_type": "markdown",
   "id": "1a480ab3",
   "metadata": {},
   "source": [
    "4.What is an expression made up of? What do all expressions do?"
   ]
  },
  {
   "cell_type": "code",
   "execution_count": null,
   "id": "5692dccc",
   "metadata": {},
   "outputs": [],
   "source": [
    "#Expression describes a computation or operation performed on data. The interpretor evaluates the expression and displays a result.\n",
    "#eg. mathematical operators such as *,/,+,- etc ."
   ]
  },
  {
   "cell_type": "markdown",
   "id": "4745dfe6",
   "metadata": {},
   "source": [
    "5.This assignment statements, like spam = 10. What is the difference between an expression and a statement?"
   ]
  },
  {
   "cell_type": "code",
   "execution_count": null,
   "id": "ba3a4e70",
   "metadata": {},
   "outputs": [],
   "source": [
    "# An expression evaluates a value, it is a combination of variables, operations and values that yield results. \n",
    "# A statement represents an action or command . \n",
    "# Therefore, spam = 10 is an assignment statement where 10 is assigned a name spam."
   ]
  },
  {
   "cell_type": "markdown",
   "id": "926b03d1",
   "metadata": {},
   "source": [
    "6.After running the following code, what does the variable bacon contain?"
   ]
  },
  {
   "cell_type": "code",
   "execution_count": 1,
   "id": "c46623e1",
   "metadata": {},
   "outputs": [
    {
     "name": "stdout",
     "output_type": "stream",
     "text": [
      "22\n"
     ]
    }
   ],
   "source": [
    "bacon = 22\n",
    "bacon + 1\n",
    "print(bacon)"
   ]
  },
  {
   "cell_type": "code",
   "execution_count": null,
   "id": "027f9b0c",
   "metadata": {},
   "outputs": [],
   "source": [
    "7.What should the values of the following two terms be?"
   ]
  },
  {
   "cell_type": "code",
   "execution_count": 2,
   "id": "9a4798db",
   "metadata": {},
   "outputs": [
    {
     "data": {
      "text/plain": [
       "'spamspamspam'"
      ]
     },
     "execution_count": 2,
     "metadata": {},
     "output_type": "execute_result"
    }
   ],
   "source": [
    "'spam' + 'spamspam'"
   ]
  },
  {
   "cell_type": "code",
   "execution_count": 3,
   "id": "2a47485b",
   "metadata": {},
   "outputs": [
    {
     "data": {
      "text/plain": [
       "'spamspamspam'"
      ]
     },
     "execution_count": 3,
     "metadata": {},
     "output_type": "execute_result"
    }
   ],
   "source": [
    "'spam' * 3"
   ]
  },
  {
   "cell_type": "markdown",
   "id": "6f2fddc7",
   "metadata": {},
   "source": [
    "8.Why is eggs a valid variable name while 100 is invalid?"
   ]
  },
  {
   "cell_type": "code",
   "execution_count": null,
   "id": "903eb60e",
   "metadata": {},
   "outputs": [],
   "source": [
    "# A valid variable name starts with a letter, followed by letters, digits, or underscores.\n",
    "# 100 is digit and it has to be preceeded with a letter for it to be a valid variable name and here egg is valid variable name."
   ]
  },
  {
   "cell_type": "code",
   "execution_count": 4,
   "id": "fe2f30c5",
   "metadata": {},
   "outputs": [],
   "source": [
    "egg = 10"
   ]
  },
  {
   "cell_type": "code",
   "execution_count": 5,
   "id": "e053c766",
   "metadata": {},
   "outputs": [
    {
     "ename": "SyntaxError",
     "evalue": "cannot assign to literal (Temp/ipykernel_41708/1031011769.py, line 1)",
     "output_type": "error",
     "traceback": [
      "\u001b[1;36m  File \u001b[1;32m\"C:\\Users\\LIZEL RODRIGUES\\AppData\\Local\\Temp/ipykernel_41708/1031011769.py\"\u001b[1;36m, line \u001b[1;32m1\u001b[0m\n\u001b[1;33m    100 = \"invalid variable name\"\u001b[0m\n\u001b[1;37m    ^\u001b[0m\n\u001b[1;31mSyntaxError\u001b[0m\u001b[1;31m:\u001b[0m cannot assign to literal\n"
     ]
    }
   ],
   "source": [
    "100 = \"invalid variable name\""
   ]
  },
  {
   "cell_type": "markdown",
   "id": "d3bea32a",
   "metadata": {},
   "source": [
    "9.What three functions can be used to get the integer, floating-point number, or string\n",
    "version of a value?"
   ]
  },
  {
   "cell_type": "code",
   "execution_count": null,
   "id": "91e23707",
   "metadata": {},
   "outputs": [],
   "source": [
    "# The three functions are int() , float() , and str(). "
   ]
  },
  {
   "cell_type": "markdown",
   "id": "bc849e77",
   "metadata": {},
   "source": [
    "10.Why does this expression cause an error? How can you fix it?\n",
    "'I have eaten ' + 99 + ' burritos.'"
   ]
  },
  {
   "cell_type": "code",
   "execution_count": 6,
   "id": "aac94bae",
   "metadata": {},
   "outputs": [
    {
     "ename": "TypeError",
     "evalue": "can only concatenate str (not \"int\") to str",
     "output_type": "error",
     "traceback": [
      "\u001b[1;31m---------------------------------------------------------------------------\u001b[0m",
      "\u001b[1;31mTypeError\u001b[0m                                 Traceback (most recent call last)",
      "\u001b[1;32m~\\AppData\\Local\\Temp/ipykernel_41708/1774935878.py\u001b[0m in \u001b[0;36m<module>\u001b[1;34m\u001b[0m\n\u001b[1;32m----> 1\u001b[1;33m \u001b[1;34m'I have eaten '\u001b[0m \u001b[1;33m+\u001b[0m \u001b[1;36m99\u001b[0m \u001b[1;33m+\u001b[0m \u001b[1;34m' burritos.'\u001b[0m\u001b[1;33m\u001b[0m\u001b[1;33m\u001b[0m\u001b[0m\n\u001b[0m",
      "\u001b[1;31mTypeError\u001b[0m: can only concatenate str (not \"int\") to str"
     ]
    }
   ],
   "source": [
    "'I have eaten ' + 99 + ' burritos.'      #since 99 is not a string, we cannot concatenate it."
   ]
  },
  {
   "cell_type": "code",
   "execution_count": 7,
   "id": "dd5469d2",
   "metadata": {},
   "outputs": [
    {
     "data": {
      "text/plain": [
       "'I have eaten 99 burritos'"
      ]
     },
     "execution_count": 7,
     "metadata": {},
     "output_type": "execute_result"
    }
   ],
   "source": [
    "Error_Fixed = 'I have eaten'+ ' 99 ' + 'burritos'\n",
    "Error_Fixed"
   ]
  }
 ],
 "metadata": {
  "kernelspec": {
   "display_name": "Python 3 (ipykernel)",
   "language": "python",
   "name": "python3"
  },
  "language_info": {
   "codemirror_mode": {
    "name": "ipython",
    "version": 3
   },
   "file_extension": ".py",
   "mimetype": "text/x-python",
   "name": "python",
   "nbconvert_exporter": "python",
   "pygments_lexer": "ipython3",
   "version": "3.9.7"
  }
 },
 "nbformat": 4,
 "nbformat_minor": 5
}
